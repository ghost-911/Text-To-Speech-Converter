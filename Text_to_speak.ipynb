{
 "cells": [
  {
   "cell_type": "code",
   "execution_count": 13,
   "id": "39e29900-1d2e-4218-89ca-4dea2dd3a0eb",
   "metadata": {},
   "outputs": [],
   "source": [
    "import tkinter as tk\n",
    "from tkinter import *\n",
    "from tkinter import filedialog\n",
    "from tkinter.ttk import Combobox\n",
    "import pyttsx3\n",
    "import os\n",
    "from gtts import gTTS\n",
    "from playsound import playsound\n",
    "from tkinter import Label, PhotoImage"
   ]
  },
  {
   "cell_type": "code",
   "execution_count": 14,
   "id": "c1d9220c-321d-48ef-8b7b-3dc8efbe62d9",
   "metadata": {},
   "outputs": [],
   "source": [
    "root = Tk()\n",
    "root.title(\"Text to Speech converter By Govind Sheshadri\")\n",
    "root.geometry(\"1000x580+200+80\")\n",
    "root.resizable(False,False)\n",
    "root.configure(bg=\"#1F1C18\")\n",
    "#root.mainloop()"
   ]
  },
  {
   "cell_type": "code",
   "execution_count": 15,
   "id": "f3f24ba2-596c-4dde-b504-e035447e5f36",
   "metadata": {},
   "outputs": [],
   "source": [
    "tts = pyttsx3.init()\n",
    "\n",
    "def speaknow():\n",
    "    text = text_box.get(1.0, END)\n",
    "    gender = gender_box.get()\n",
    "    speed = speed_box.get()\n",
    "    voices = tts.getProperty('voices')\n",
    "\n",
    "    def setvoice():\n",
    "        if gender == 'Male':\n",
    "            tts.setProperty('voice', voices[0].id)\n",
    "            tts.say(text)\n",
    "            tts.runAndWait()\n",
    "        else:\n",
    "            tts.setProperty('voice', voices[1].id)\n",
    "            tts.say(text)\n",
    "            tts.runAndWait()  # Typo: Change 'eunAndWait' to 'runAndWait'\n",
    "\n",
    "    if text:  # Fix indentation here\n",
    "        if speed == 'Fast':\n",
    "            tts.setProperty('rate', 250)\n",
    "            setvoice()\n",
    "        elif speed == 'Medium':  # Fix typo: 'Meduim' to 'Medium'\n",
    "            tts.setProperty('rate', 150)\n",
    "            setvoice()\n",
    "        else:\n",
    "            tts.setProperty('rate', 60)\n",
    "            setvoice()\n"
   ]
  },
  {
   "cell_type": "code",
   "execution_count": 16,
   "id": "64c586c6-6eb2-44d9-98ea-65195f1d1417",
   "metadata": {},
   "outputs": [],
   "source": [
    "\n",
    "photo = PhotoImage(file = \"C:/Users/Govind Sheshadri/Downloads/Screenshot_20231031_172226 (1).png\")\n",
    "Label(root, image= photo, bg=\"#1F1C18\").place(x=645, y=498)\n",
    "#root.mainloop()"
   ]
  },
  {
   "cell_type": "code",
   "execution_count": 17,
   "id": "db300b3c-6cbd-423c-948a-e2c167f5a17d",
   "metadata": {},
   "outputs": [],
   "source": [
    "logo_image = PhotoImage(file = \"C:/Users/Govind Sheshadri/Downloads/Screenshot_20231031_175047.png\")\n",
    "root.iconphoto(False,logo_image)\n",
    "#root.mainloop()"
   ]
  },
  {
   "cell_type": "code",
   "execution_count": 18,
   "id": "08b93402-a949-4084-a23d-ce79b049a0d0",
   "metadata": {},
   "outputs": [],
   "source": [
    "upper_frame = Frame(root, bg=\"#14A7DD\", width = 1200, height = 65)\n",
    "upper_frame.place(x=0,y=0)\n",
    "#picture = PhotoImage(file = \"C:/Users/Govind Sheshadri/Downloads/Screenshot_20231031_175047.png\")\n",
    "#Label(upper_frame, image= picture, bg=\"#14A7DD\").place(x=150, y=20)\n",
    "\n",
    "#root.mainloop()"
   ]
  },
  {
   "cell_type": "code",
   "execution_count": 19,
   "id": "f9bd0e85-0b1e-4096-9440-c96ca966479b",
   "metadata": {},
   "outputs": [],
   "source": [
    "Label(upper_frame, text=\" Text to Speech Converter \" , font=\" arial 40 bold \", bg = \"#14A7DD\", fg='white').place(x=20, y=0)\n",
    "#root.mainloop()"
   ]
  },
  {
   "cell_type": "code",
   "execution_count": 20,
   "id": "f1b7d3b4-8bb7-4693-a1f0-39c07779fb25",
   "metadata": {},
   "outputs": [],
   "source": [
    "text_box = Text(root, font=\"calibri 20\", bg=\"white\", relief = GROOVE, wrap= WORD, bd=0)\n",
    "text_box.place(x=30,y=150, width=940, height=180)\n",
    "#root.mainloop()"
   ]
  },
  {
   "cell_type": "code",
   "execution_count": 21,
   "id": "8c72e5c5-de0c-47ac-b07a-58bea4b449c7",
   "metadata": {},
   "outputs": [],
   "source": [
    "gender_box = Combobox(root, values=['Male', 'Female'], font = \"Robote 12\", state='r', width=12)\n",
    "gender_box.place(x=340, y=400)\n",
    "gender_box.set('Male')\n",
    "#root.mainloop()"
   ]
  },
  {
   "cell_type": "code",
   "execution_count": 22,
   "id": "9c062caf-21f8-4b8f-8adc-f86517d75231",
   "metadata": {},
   "outputs": [],
   "source": [
    "speed_box = Combobox(root, values=['Fast', 'Medium','Slow'], font = \"Robote 12\", state='r', width=12)\n",
    "speed_box.place(x=540, y=400)\n",
    "speed_box.set('Meduim')\n",
    "#root.mainloop()"
   ]
  },
  {
   "cell_type": "code",
   "execution_count": 23,
   "id": "bae76614-d80f-42b5-a386-5e5857044742",
   "metadata": {},
   "outputs": [],
   "source": [
    "Label(root, text=\"Select Voice\", font = 'TimesNewRoman 15 bold', bg=\"#F7AC40\", fg=\"White\").place(x=340,y=370)\n",
    "Label(root, text=\"Select Speed\", font = 'TimesNewRoman 15 bold', bg=\"#F7AC40\", fg=\"White\").place(x=540,y=370)\n",
    "#root.mainloop()"
   ]
  },
  {
   "cell_type": "code",
   "execution_count": null,
   "id": "b031d049-023c-4f41-b2ed-50ffc1487b21",
   "metadata": {},
   "outputs": [],
   "source": [
    "play_button = PhotoImage(file = \"C:/Users/Govind Sheshadri/Downloads/Screenshot_20231031_190640 (1).png\")\n",
    "play_btn = Button(root, text=\"Play\", compound = LEFT, image = play_button, bg='white', width = 130, font = \"arial 14 bold\", borderwidth = '0.1c',command= speaknow)\n",
    "play_btn.place(x = 435, y = 450)\n",
    "root.mainloop()"
   ]
  },
  {
   "cell_type": "code",
   "execution_count": null,
   "id": "2f8bd898-21a3-447c-b073-820266640a65",
   "metadata": {},
   "outputs": [],
   "source": []
  },
  {
   "cell_type": "code",
   "execution_count": null,
   "id": "6959468f-232d-4266-aa12-905ac9b858a0",
   "metadata": {},
   "outputs": [],
   "source": []
  },
  {
   "cell_type": "code",
   "execution_count": null,
   "id": "727172f6-876a-4fac-b133-cb8c877889ac",
   "metadata": {},
   "outputs": [],
   "source": []
  },
  {
   "cell_type": "code",
   "execution_count": null,
   "id": "a8206384-a1b7-4bd8-b941-ae59303072f0",
   "metadata": {},
   "outputs": [],
   "source": []
  },
  {
   "cell_type": "code",
   "execution_count": null,
   "id": "8c8ad378-611e-4a98-b641-bd1cd4c635e8",
   "metadata": {},
   "outputs": [],
   "source": []
  },
  {
   "cell_type": "code",
   "execution_count": null,
   "id": "2b70fe6c-e9e3-48fc-863f-bb2e56be90ee",
   "metadata": {},
   "outputs": [],
   "source": []
  },
  {
   "cell_type": "code",
   "execution_count": null,
   "id": "03bf4c3a-b026-48a3-90af-d6b22bafcf09",
   "metadata": {},
   "outputs": [],
   "source": []
  },
  {
   "cell_type": "code",
   "execution_count": null,
   "id": "3afed4b4-d20e-49de-a69f-03ba487be2a7",
   "metadata": {},
   "outputs": [],
   "source": []
  },
  {
   "cell_type": "code",
   "execution_count": null,
   "id": "6684bb76-9df4-4fd6-abbb-f80e5b924eaf",
   "metadata": {},
   "outputs": [],
   "source": []
  },
  {
   "cell_type": "code",
   "execution_count": null,
   "id": "b0cc62ba-08db-4329-b3cb-3e13f239b1a6",
   "metadata": {},
   "outputs": [],
   "source": []
  },
  {
   "cell_type": "code",
   "execution_count": null,
   "id": "48d5cbfe-dccc-44fa-b8f0-70572426f159",
   "metadata": {},
   "outputs": [],
   "source": []
  }
 ],
 "metadata": {
  "kernelspec": {
   "display_name": "Python 3 (ipykernel)",
   "language": "python",
   "name": "python3"
  },
  "language_info": {
   "codemirror_mode": {
    "name": "ipython",
    "version": 3
   },
   "file_extension": ".py",
   "mimetype": "text/x-python",
   "name": "python",
   "nbconvert_exporter": "python",
   "pygments_lexer": "ipython3",
   "version": "3.10.1"
  }
 },
 "nbformat": 4,
 "nbformat_minor": 5
}
